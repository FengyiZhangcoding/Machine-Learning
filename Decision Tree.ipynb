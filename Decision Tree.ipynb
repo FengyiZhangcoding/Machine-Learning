{
 "cells": [
  {
   "cell_type": "code",
   "execution_count": 3,
   "id": "33753b8a",
   "metadata": {},
   "outputs": [],
   "source": [
    "#Decision Tree linrary\n",
    "from sklearn.tree import DecisionTreeClassifier\n",
    "from sklearn import tree\n",
    "from sklearn import datasets\n",
    "import numpy as np\n",
    "import pandas as pd"
   ]
  },
  {
   "cell_type": "code",
   "execution_count": 19,
   "id": "bf1773b7",
   "metadata": {},
   "outputs": [],
   "source": [
    "#random database\n",
    "data = datasets.load_diabetes()\n",
    "df = pd.DataFrame(data['data'],columns = data['feature_names'])\n",
    "df['target'] = data['target']\n"
   ]
  },
  {
   "cell_type": "code",
   "execution_count": 51,
   "id": "cdb48840",
   "metadata": {},
   "outputs": [
    {
     "data": {
      "text/html": [
       "<div>\n",
       "<style scoped>\n",
       "    .dataframe tbody tr th:only-of-type {\n",
       "        vertical-align: middle;\n",
       "    }\n",
       "\n",
       "    .dataframe tbody tr th {\n",
       "        vertical-align: top;\n",
       "    }\n",
       "\n",
       "    .dataframe thead th {\n",
       "        text-align: right;\n",
       "    }\n",
       "</style>\n",
       "<table border=\"1\" class=\"dataframe\">\n",
       "  <thead>\n",
       "    <tr style=\"text-align: right;\">\n",
       "      <th></th>\n",
       "      <th>age</th>\n",
       "      <th>sex</th>\n",
       "      <th>bmi</th>\n",
       "      <th>bp</th>\n",
       "      <th>s1</th>\n",
       "      <th>s2</th>\n",
       "      <th>s3</th>\n",
       "      <th>s4</th>\n",
       "      <th>s5</th>\n",
       "      <th>s6</th>\n",
       "      <th>target</th>\n",
       "    </tr>\n",
       "  </thead>\n",
       "  <tbody>\n",
       "    <tr>\n",
       "      <th>0</th>\n",
       "      <td>0.038076</td>\n",
       "      <td>1</td>\n",
       "      <td>0.061696</td>\n",
       "      <td>0.021872</td>\n",
       "      <td>-0.044223</td>\n",
       "      <td>-0.034821</td>\n",
       "      <td>-0.043401</td>\n",
       "      <td>-0.002592</td>\n",
       "      <td>0.019908</td>\n",
       "      <td>-0.017646</td>\n",
       "      <td>151.0</td>\n",
       "    </tr>\n",
       "    <tr>\n",
       "      <th>1</th>\n",
       "      <td>-0.001882</td>\n",
       "      <td>0</td>\n",
       "      <td>-0.051474</td>\n",
       "      <td>-0.026328</td>\n",
       "      <td>-0.008449</td>\n",
       "      <td>-0.019163</td>\n",
       "      <td>0.074412</td>\n",
       "      <td>-0.039493</td>\n",
       "      <td>-0.068330</td>\n",
       "      <td>-0.092204</td>\n",
       "      <td>75.0</td>\n",
       "    </tr>\n",
       "    <tr>\n",
       "      <th>2</th>\n",
       "      <td>0.085299</td>\n",
       "      <td>1</td>\n",
       "      <td>0.044451</td>\n",
       "      <td>-0.005671</td>\n",
       "      <td>-0.045599</td>\n",
       "      <td>-0.034194</td>\n",
       "      <td>-0.032356</td>\n",
       "      <td>-0.002592</td>\n",
       "      <td>0.002864</td>\n",
       "      <td>-0.025930</td>\n",
       "      <td>141.0</td>\n",
       "    </tr>\n",
       "    <tr>\n",
       "      <th>3</th>\n",
       "      <td>-0.089063</td>\n",
       "      <td>0</td>\n",
       "      <td>-0.011595</td>\n",
       "      <td>-0.036656</td>\n",
       "      <td>0.012191</td>\n",
       "      <td>0.024991</td>\n",
       "      <td>-0.036038</td>\n",
       "      <td>0.034309</td>\n",
       "      <td>0.022692</td>\n",
       "      <td>-0.009362</td>\n",
       "      <td>206.0</td>\n",
       "    </tr>\n",
       "    <tr>\n",
       "      <th>4</th>\n",
       "      <td>0.005383</td>\n",
       "      <td>0</td>\n",
       "      <td>-0.036385</td>\n",
       "      <td>0.021872</td>\n",
       "      <td>0.003935</td>\n",
       "      <td>0.015596</td>\n",
       "      <td>0.008142</td>\n",
       "      <td>-0.002592</td>\n",
       "      <td>-0.031991</td>\n",
       "      <td>-0.046641</td>\n",
       "      <td>135.0</td>\n",
       "    </tr>\n",
       "  </tbody>\n",
       "</table>\n",
       "</div>"
      ],
      "text/plain": [
       "        age  sex       bmi        bp        s1        s2        s3        s4  \\\n",
       "0  0.038076    1  0.061696  0.021872 -0.044223 -0.034821 -0.043401 -0.002592   \n",
       "1 -0.001882    0 -0.051474 -0.026328 -0.008449 -0.019163  0.074412 -0.039493   \n",
       "2  0.085299    1  0.044451 -0.005671 -0.045599 -0.034194 -0.032356 -0.002592   \n",
       "3 -0.089063    0 -0.011595 -0.036656  0.012191  0.024991 -0.036038  0.034309   \n",
       "4  0.005383    0 -0.036385  0.021872  0.003935  0.015596  0.008142 -0.002592   \n",
       "\n",
       "         s5        s6  target  \n",
       "0  0.019908 -0.017646   151.0  \n",
       "1 -0.068330 -0.092204    75.0  \n",
       "2  0.002864 -0.025930   141.0  \n",
       "3  0.022692 -0.009362   206.0  \n",
       "4 -0.031991 -0.046641   135.0  "
      ]
     },
     "execution_count": 51,
     "metadata": {},
     "output_type": "execute_result"
    }
   ],
   "source": [
    "#split\n",
    "def sechange(x):\n",
    "    if x>0:\n",
    "        return 1\n",
    "    else :\n",
    "        return 0\n",
    "df['sex'] = df.apply(lambda row: sechange(row['sex']), axis = 1)\n",
    "train_size = 0.9 \n",
    "train = df.sample(frac = train_size)\n",
    "test = df.drop(train.index)\n",
    "\n",
    "train_x = train.drop(columns='sex')\n",
    "train_y = train[['sex']]\n",
    "df.head()"
   ]
  },
  {
   "cell_type": "code",
   "execution_count": 59,
   "id": "5b131e85",
   "metadata": {},
   "outputs": [
    {
     "data": {
      "text/plain": [
       "[Text(167.4, 190.26, 'X[5] <= -0.019\\ngini = 0.497\\nsamples = 398\\nvalue = [215, 183]'),\n",
       " Text(83.7, 135.9, 'X[2] <= -0.015\\ngini = 0.427\\nsamples = 149\\nvalue = [46, 103]'),\n",
       " Text(41.85, 81.53999999999999, 'X[9] <= 179.0\\ngini = 0.5\\nsamples = 51\\nvalue = [26, 25]'),\n",
       " Text(20.925, 27.180000000000007, '\\n  (...)  \\n'),\n",
       " Text(62.775000000000006, 27.180000000000007, '\\n  (...)  \\n'),\n",
       " Text(125.55000000000001, 81.53999999999999, 'X[7] <= 0.038\\ngini = 0.325\\nsamples = 98\\nvalue = [20, 78]'),\n",
       " Text(104.625, 27.180000000000007, '\\n  (...)  \\n'),\n",
       " Text(146.475, 27.180000000000007, '\\n  (...)  \\n'),\n",
       " Text(251.10000000000002, 135.9, 'X[5] <= 0.043\\ngini = 0.436\\nsamples = 249\\nvalue = [169, 80]'),\n",
       " Text(209.25, 81.53999999999999, 'X[2] <= -0.025\\ngini = 0.478\\nsamples = 180\\nvalue = [109, 71]'),\n",
       " Text(188.32500000000002, 27.180000000000007, '\\n  (...)  \\n'),\n",
       " Text(230.175, 27.180000000000007, '\\n  (...)  \\n'),\n",
       " Text(292.95, 81.53999999999999, 'X[7] <= -0.084\\ngini = 0.227\\nsamples = 69\\nvalue = [60, 9]'),\n",
       " Text(272.02500000000003, 27.180000000000007, '\\n  (...)  \\n'),\n",
       " Text(313.875, 27.180000000000007, '\\n  (...)  \\n')]"
      ]
     },
     "execution_count": 59,
     "metadata": {},
     "output_type": "execute_result"
    },
    {
     "data": {
      "image/png": "[encoded data removed]",
      "text/plain": [
       "<Figure size 432x288 with 1 Axes>"
      ]
     },
     "metadata": {
      "needs_background": "light"
     },
     "output_type": "display_data"
    }
   ],
   "source": [
    "# build classifier\n",
    "from sklearn.metrics import accuracy_score\n",
    "clf = DecisionTreeClassifier()\n",
    "clf.fit(train_x,train_y)\n",
    "pre = clf.predict(test.drop(columns = 'sex'))\n",
    "accuracy_score(pre,test['sex'])\n",
    "tree.plot_tree(clf,max_depth=2)"
   ]
  }
 ],
 "metadata": {
  "kernelspec": {
   "display_name": "Python 3",
   "language": "python",
   "name": "python3"
  },
  "language_info": {
   "codemirror_mode": {
    "name": "ipython",
    "version": 3
   },
   "file_extension": ".py",
   "mimetype": "text/x-python",
   "name": "python",
   "nbconvert_exporter": "python",
   "pygments_lexer": "ipython3",
   "version": "3.8.8"
  }
 },
 "nbformat": 4,
 "nbformat_minor": 5
}
